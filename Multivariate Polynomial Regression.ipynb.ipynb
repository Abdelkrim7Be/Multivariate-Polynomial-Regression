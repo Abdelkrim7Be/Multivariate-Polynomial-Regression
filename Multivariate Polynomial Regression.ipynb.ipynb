{
 "cells": [
  {
   "cell_type": "code",
   "execution_count": 40,
   "metadata": {
    "id": "9dpfKlPZhMwT"
   },
   "outputs": [],
   "source": [
    "# Import necessary libraries\n",
    "import pandas as pd\n",
    "import numpy as np\n",
    "import matplotlib.pyplot as plt\n",
    "import seaborn as sns\n",
    "from sklearn.model_selection import train_test_split, cross_val_score\n",
    "from sklearn.preprocessing import PolynomialFeatures\n",
    "from sklearn.linear_model import LinearRegression\n",
    "from sklearn.metrics import mean_squared_error, r2_score\n",
    "from sklearn.pipeline import make_pipeline\n",
    "import statsmodels.api as sm\n",
    "from sklearn.model_selection import learning_curve\n",
    "import warnings\n",
    "from scipy import stats\n",
    "warnings.filterwarnings('ignore')"
   ]
  },
  {
   "cell_type": "code",
   "execution_count": 41,
   "metadata": {
    "colab": {
     "base_uri": "https://localhost:8080/",
     "height": 38
    },
    "id": "RsvG3QHgiMYF",
    "outputId": "c7f3ae97-ebb4-48f6-f240-51a4b1183eca"
   },
   "outputs": [],
   "source": [
    "df = pd.read_csv('Advertising.csv')"
   ]
  },
  {
   "cell_type": "code",
   "execution_count": 42,
   "metadata": {
    "id": "atbbqz_QivDk"
   },
   "outputs": [],
   "source": [
    "# Check if there's an unnamed index column and remove it\n",
    "if 'Unnamed: 0' in df.columns:\n",
    "    df = df.drop('Unnamed: 0', axis=1)"
   ]
  },
  {
   "cell_type": "code",
   "execution_count": 43,
   "metadata": {
    "id": "5RCH5M4biys-"
   },
   "outputs": [
    {
     "name": "stdout",
     "output_type": "stream",
     "text": [
      "Dataset Overview:\n",
      "      TV  Radio  Newspaper  Sales\n",
      "0  230.1   37.8       69.2   22.1\n",
      "1   44.5   39.3       45.1   10.4\n",
      "2   17.2   45.9       69.3    9.3\n",
      "3  151.5   41.3       58.5   18.5\n",
      "4  180.8   10.8       58.4   12.9\n",
      "\n",
      "Dataset Info:\n",
      "<class 'pandas.core.frame.DataFrame'>\n",
      "RangeIndex: 200 entries, 0 to 199\n",
      "Data columns (total 4 columns):\n",
      " #   Column     Non-Null Count  Dtype  \n",
      "---  ------     --------------  -----  \n",
      " 0   TV         200 non-null    float64\n",
      " 1   Radio      200 non-null    float64\n",
      " 2   Newspaper  200 non-null    float64\n",
      " 3   Sales      200 non-null    float64\n",
      "dtypes: float64(4)\n",
      "memory usage: 6.4 KB\n",
      "None\n",
      "\n",
      "Statistical Summary:\n",
      "               TV       Radio   Newspaper       Sales\n",
      "count  200.000000  200.000000  200.000000  200.000000\n",
      "mean   147.042500   23.264000   30.554000   14.022500\n",
      "std     85.854236   14.846809   21.778621    5.217457\n",
      "min      0.700000    0.000000    0.300000    1.600000\n",
      "25%     74.375000    9.975000   12.750000   10.375000\n",
      "50%    149.750000   22.900000   25.750000   12.900000\n",
      "75%    218.825000   36.525000   45.100000   17.400000\n",
      "max    296.400000   49.600000  114.000000   27.000000\n"
     ]
    }
   ],
   "source": [
    "# Display basic information about the dataset\n",
    "print(\"Dataset Overview:\")\n",
    "print(df.head())\n",
    "print(\"\\nDataset Info:\")\n",
    "print(df.info())\n",
    "print(\"\\nStatistical Summary:\")\n",
    "print(df.describe())"
   ]
  },
  {
   "cell_type": "code",
   "execution_count": 44,
   "metadata": {
    "id": "c1_sPj6fi4qT"
   },
   "outputs": [
    {
     "name": "stdout",
     "output_type": "stream",
     "text": [
      "\n",
      "Missing Values:\n",
      "TV           0\n",
      "Radio        0\n",
      "Newspaper    0\n",
      "Sales        0\n",
      "dtype: int64\n"
     ]
    }
   ],
   "source": [
    "# Check for missing values\n",
    "print(\"\\nMissing Values:\")\n",
    "print(df.isnull().sum())"
   ]
  },
  {
   "cell_type": "code",
   "execution_count": 45,
   "metadata": {
    "id": "hFPI8C9wi8e6"
   },
   "outputs": [
    {
     "data": {
      "text/plain": [
       "<Figure size 1000x800 with 0 Axes>"
      ]
     },
     "metadata": {},
     "output_type": "display_data"
    }
   ],
   "source": [
    "# Visualize pairwise relationships\n",
    "plt.figure(figsize=(10, 8))\n",
    "sns.pairplot(df)\n",
    "plt.savefig('pairplot.png')\n",
    "plt.close()"
   ]
  },
  {
   "cell_type": "code",
   "execution_count": 46,
   "metadata": {
    "id": "ZnE8rRsVjC6M"
   },
   "outputs": [],
   "source": [
    "# Correlation matrix\n",
    "plt.figure(figsize=(10, 8))\n",
    "sns.heatmap(df.corr(), annot=True, cmap='coolwarm')\n",
    "plt.title('Correlation Matrix')\n",
    "plt.savefig('correlation_matrix.png')\n",
    "plt.close()"
   ]
  },
  {
   "cell_type": "code",
   "execution_count": 47,
   "metadata": {
    "id": "qRy4PmIGjV_e"
   },
   "outputs": [],
   "source": [
    "# Prepare data\n",
    "X = df[['TV', 'Radio', 'Newspaper']]\n",
    "y = df['Sales']"
   ]
  },
  {
   "cell_type": "code",
   "execution_count": 48,
   "metadata": {
    "id": "My07Y5cGjZHn"
   },
   "outputs": [],
   "source": [
    "# Split data into training and testing sets\n",
    "X_train, X_test, y_train, y_test = train_test_split(X, y, test_size=0.2, random_state=42)"
   ]
  },
  {
   "cell_type": "code",
   "execution_count": 49,
   "metadata": {
    "id": "Y4Tjv4vfjcGy"
   },
   "outputs": [],
   "source": [
    "# Part 1: Using three techniques to choose the optimal polynomial degree"
   ]
  },
  {
   "cell_type": "code",
   "execution_count": 50,
   "metadata": {
    "id": "vMBRC4uWjeQK"
   },
   "outputs": [],
   "source": [
    "\n",
    "# Technique 1: Cross-Validation for different polynomial degrees"
   ]
  },
  {
   "cell_type": "code",
   "execution_count": 51,
   "metadata": {
    "id": "BXyzcE04je2q"
   },
   "outputs": [],
   "source": [
    "max_degree = 5\n",
    "cv_scores = []\n",
    "test_scores = []\n",
    "train_scores = []"
   ]
  },
  {
   "cell_type": "code",
   "execution_count": 52,
   "metadata": {
    "id": "7_0d_e3Zjopw"
   },
   "outputs": [
    {
     "name": "stdout",
     "output_type": "stream",
     "text": [
      "Degree 1:\n",
      "  Train R² score: 0.8957\n",
      "  Test R² score: 0.8994\n",
      "  CV R² score: 0.8595\n",
      "  # of features: 3\n",
      "Degree 2:\n",
      "  Train R² score: 0.9861\n",
      "  Test R² score: 0.9869\n",
      "  CV R² score: 0.9772\n",
      "  # of features: 9\n",
      "Degree 3:\n",
      "  Train R² score: 0.9917\n",
      "  Test R² score: 0.9907\n",
      "  CV R² score: 0.9665\n",
      "  # of features: 19\n",
      "Degree 4:\n",
      "  Train R² score: 0.9948\n",
      "  Test R² score: 0.9804\n",
      "  CV R² score: 0.9637\n",
      "  # of features: 34\n",
      "Degree 5:\n",
      "  Train R² score: 0.9976\n",
      "  Test R² score: -1.4238\n",
      "  CV R² score: -0.2257\n",
      "  # of features: 55\n"
     ]
    }
   ],
   "source": [
    "for degree in range(1, max_degree + 1):\n",
    "    # Create polynomial features\n",
    "    poly = PolynomialFeatures(degree=degree, include_bias=False)\n",
    "    X_poly_train = poly.fit_transform(X_train)\n",
    "    X_poly_test = poly.transform(X_test)\n",
    "\n",
    "    # Fit the model\n",
    "    model = LinearRegression()\n",
    "    model.fit(X_poly_train, y_train)\n",
    "\n",
    "    # Evaluate the model\n",
    "    train_score = model.score(X_poly_train, y_train)\n",
    "    test_score = model.score(X_poly_test, y_test)\n",
    "    cv_score = np.mean(cross_val_score(LinearRegression(), X_poly_train, y_train, cv=5))\n",
    "\n",
    "    cv_scores.append(cv_score)\n",
    "    test_scores.append(test_score)\n",
    "    train_scores.append(train_score)\n",
    "\n",
    "    print(f\"Degree {degree}:\")\n",
    "    print(f\"  Train R² score: {train_score:.4f}\")\n",
    "    print(f\"  Test R² score: {test_score:.4f}\")\n",
    "    print(f\"  CV R² score: {cv_score:.4f}\")\n",
    "    print(f\"  # of features: {X_poly_train.shape[1]}\")"
   ]
  },
  {
   "cell_type": "code",
   "execution_count": 53,
   "metadata": {
    "id": "zhXiOzSAjsEO"
   },
   "outputs": [],
   "source": [
    "# Plot the scores\n",
    "plt.figure(figsize=(10, 6))\n",
    "plt.plot(range(1, max_degree + 1), train_scores, 'o-', label='Training Score')\n",
    "plt.plot(range(1, max_degree + 1), test_scores, 'o-', label='Testing Score')\n",
    "plt.plot(range(1, max_degree + 1), cv_scores, 'o-', label='CV Score')\n",
    "plt.xlabel('Polynomial Degree')\n",
    "plt.ylabel('R² Score')\n",
    "plt.title('Model Performance vs. Polynomial Degree')\n",
    "plt.legend()\n",
    "plt.grid(True)\n",
    "plt.savefig('polynomial_degree_selection.png')\n",
    "plt.close()"
   ]
  },
  {
   "cell_type": "code",
   "execution_count": 54,
   "metadata": {
    "id": "3W7Ojx0_jvou"
   },
   "outputs": [],
   "source": [
    "# Technique 2: AIC and BIC for model selection"
   ]
  },
  {
   "cell_type": "code",
   "execution_count": 55,
   "metadata": {
    "id": "wgMvpKPdj0n6"
   },
   "outputs": [],
   "source": [
    "aic_values = []\n",
    "bic_values = []"
   ]
  },
  {
   "cell_type": "code",
   "execution_count": 56,
   "metadata": {
    "id": "zqDdzOh2j10X"
   },
   "outputs": [
    {
     "name": "stdout",
     "output_type": "stream",
     "text": [
      "Degree 1:\n",
      "  AIC: 780.36\n",
      "  BIC: 793.56\n",
      "Degree 2:\n",
      "  AIC: 386.28\n",
      "  BIC: 419.26\n",
      "Degree 3:\n",
      "  AIC: 299.82\n",
      "  BIC: 365.79\n",
      "Degree 4:\n",
      "  AIC: 248.20\n",
      "  BIC: 363.65\n",
      "Degree 5:\n",
      "  AIC: 157.44\n",
      "  BIC: 342.15\n"
     ]
    }
   ],
   "source": [
    "for degree in range(1, max_degree + 1):\n",
    "    poly = PolynomialFeatures(degree=degree, include_bias=True)\n",
    "    X_poly = poly.fit_transform(X)\n",
    "\n",
    "    # Using statsmodels for AIC and BIC\n",
    "    X_poly_sm = sm.add_constant(X_poly)\n",
    "    model = sm.OLS(y, X_poly_sm).fit()\n",
    "\n",
    "    aic_values.append(model.aic)\n",
    "    bic_values.append(model.bic)\n",
    "\n",
    "    print(f\"Degree {degree}:\")\n",
    "    print(f\"  AIC: {model.aic:.2f}\")\n",
    "    print(f\"  BIC: {model.bic:.2f}\")"
   ]
  },
  {
   "cell_type": "code",
   "execution_count": 57,
   "metadata": {
    "id": "RRi8KPAjj5jY"
   },
   "outputs": [],
   "source": [
    "# Plot AIC and BIC"
   ]
  },
  {
   "cell_type": "code",
   "execution_count": 58,
   "metadata": {
    "id": "KYBe-s86j7tu"
   },
   "outputs": [],
   "source": [
    "plt.figure(figsize=(10, 6))\n",
    "plt.plot(range(1, max_degree + 1), aic_values, 'o-', label='AIC')\n",
    "plt.plot(range(1, max_degree + 1), bic_values, 'o-', label='BIC')\n",
    "plt.xlabel('Polynomial Degree')\n",
    "plt.ylabel('Information Criterion')\n",
    "plt.title('AIC and BIC vs. Polynomial Degree')\n",
    "plt.legend()\n",
    "plt.grid(True)\n",
    "plt.savefig('aic_bic_comparison.png')\n",
    "plt.close()"
   ]
  },
  {
   "cell_type": "code",
   "execution_count": 59,
   "metadata": {
    "id": "kquDYc6zj943"
   },
   "outputs": [],
   "source": [
    "# Technique 3: Learning curves to detect overfitting"
   ]
  },
  {
   "cell_type": "code",
   "execution_count": 60,
   "metadata": {
    "id": "He2v5QWqkBoY"
   },
   "outputs": [],
   "source": [
    "def plot_learning_curve(estimator, title, X, y, ylim=None, cv=None,\n",
    "                        n_jobs=None, train_sizes=np.linspace(.1, 1.0, 5)):\n",
    "    plt.figure(figsize=(10, 6))\n",
    "    plt.title(title)\n",
    "    if ylim is not None:\n",
    "        plt.ylim(*ylim)\n",
    "    plt.xlabel(\"Training examples\")\n",
    "    plt.ylabel(\"Score\")\n",
    "\n",
    "    train_sizes, train_scores, test_scores = learning_curve(\n",
    "        estimator, X, y, cv=cv, n_jobs=n_jobs, train_sizes=train_sizes)\n",
    "\n",
    "    train_scores_mean = np.mean(train_scores, axis=1)\n",
    "    train_scores_std = np.std(train_scores, axis=1)\n",
    "    test_scores_mean = np.mean(test_scores, axis=1)\n",
    "    test_scores_std = np.std(test_scores, axis=1)\n",
    "\n",
    "    plt.grid()\n",
    "\n",
    "    plt.fill_between(train_sizes, train_scores_mean - train_scores_std,\n",
    "                     train_scores_mean + train_scores_std, alpha=0.1, color=\"r\")\n",
    "    plt.fill_between(train_sizes, test_scores_mean - test_scores_std,\n",
    "                     test_scores_mean + test_scores_std, alpha=0.1, color=\"g\")\n",
    "    plt.plot(train_sizes, train_scores_mean, 'o-', color=\"r\", label=\"Training score\")\n",
    "    plt.plot(train_sizes, test_scores_mean, 'o-', color=\"g\", label=\"Cross-validation score\")\n",
    "\n",
    "    plt.legend(loc=\"best\")\n",
    "    return plt"
   ]
  },
  {
   "cell_type": "code",
   "execution_count": 61,
   "metadata": {
    "id": "MRXPG1lIkErY"
   },
   "outputs": [],
   "source": [
    "# Learning curves for selected degrees"
   ]
  },
  {
   "cell_type": "code",
   "execution_count": 62,
   "metadata": {
    "id": "2PGKIsoRkFc_"
   },
   "outputs": [],
   "source": [
    "for degree in [1, 2, 3]:  # Most promising degrees based on previous analyses\n",
    "    polynomial_features = PolynomialFeatures(degree=degree, include_bias=False)\n",
    "    X_poly = polynomial_features.fit_transform(X)\n",
    "\n",
    "    title = f\"Learning Curves (Polynomial Regression, degree={degree})\"\n",
    "    estimator = LinearRegression()\n",
    "\n",
    "    plot_learning_curve(estimator, title, X_poly, y, cv=5)\n",
    "    plt.savefig(f'learning_curve_degree_{degree}.png')\n",
    "    plt.close()"
   ]
  },
  {
   "cell_type": "code",
   "execution_count": 63,
   "metadata": {
    "id": "iEoa0ulHkOSr"
   },
   "outputs": [],
   "source": [
    "# Based on all three techniques, select the optimal degree\n",
    "# For this example, let's say degree 2 is selected (you would choose based on the actual results)\n",
    "optimal_degree = 2  # This should be determined from the analysis above\n",
    "\n",
    "# Part 2: Creating a polynomial regression model from scratch with the selected degree\n",
    "class PolynomialRegressionFromScratch:\n",
    "    def __init__(self, degree=2):\n",
    "        self.degree = degree\n",
    "        self.coefficients = None\n",
    "        self.intercept = None\n",
    "        self.feature_names = None\n",
    "\n",
    "    def generate_polynomial_features(self, X):\n",
    "        \"\"\"Generate polynomial features up to the specified degree\"\"\"\n",
    "        if isinstance(X, pd.DataFrame):\n",
    "            self.feature_names = X.columns\n",
    "            X = X.values\n",
    "\n",
    "        n_samples, n_features = X.shape\n",
    "\n",
    "        # Initialize feature matrix with ones for the bias term\n",
    "        X_poly = np.ones((n_samples, 1))\n",
    "\n",
    "        # Add original features\n",
    "        X_poly = np.column_stack((X_poly, X))\n",
    "\n",
    "        # Generate polynomial features\n",
    "        for d in range(2, self.degree + 1):\n",
    "            for i in range(n_features):\n",
    "                X_poly = np.column_stack((X_poly, X[:, i] ** d))\n",
    "\n",
    "            # Add interaction terms for degree 2 and above\n",
    "            if d == 2:\n",
    "                for i in range(n_features):\n",
    "                    for j in range(i+1, n_features):\n",
    "                        X_poly = np.column_stack((X_poly, X[:, i] * X[:, j]))\n",
    "\n",
    "        return X_poly\n",
    "\n",
    "    def fit(self, X, y):\n",
    "        \"\"\"Fit the polynomial regression model using normal equations\"\"\"\n",
    "        X_poly = self.generate_polynomial_features(X)\n",
    "\n",
    "        # Normal equation: theta = (X^T X)^(-1) X^T y\n",
    "        XTX = X_poly.T.dot(X_poly)\n",
    "        XTX_inv = np.linalg.inv(XTX)\n",
    "        XTy = X_poly.T.dot(y)\n",
    "        theta = XTX_inv.dot(XTy)\n",
    "\n",
    "        self.intercept = theta[0]\n",
    "        self.coefficients = theta[1:]\n",
    "\n",
    "        return self\n",
    "\n",
    "    def predict(self, X):\n",
    "        \"\"\"Make predictions using the fitted model\"\"\"\n",
    "        X_poly = self.generate_polynomial_features(X)\n",
    "        return X_poly.dot(np.concatenate(([self.intercept], self.coefficients)))\n",
    "\n",
    "    def score(self, X, y):\n",
    "        \"\"\"Calculate R² score\"\"\"\n",
    "        y_pred = self.predict(X)\n",
    "        ss_total = np.sum((y - np.mean(y)) ** 2)\n",
    "        ss_residual = np.sum((y - y_pred) ** 2)\n",
    "        r2 = 1 - (ss_residual / ss_total)\n",
    "        return r2"
   ]
  },
  {
   "cell_type": "code",
   "execution_count": 64,
   "metadata": {
    "id": "Hpy6_GtRkSaE"
   },
   "outputs": [
    {
     "data": {
      "text/plain": [
       "<__main__.PolynomialRegressionFromScratch at 0x2655aff7560>"
      ]
     },
     "execution_count": 64,
     "metadata": {},
     "output_type": "execute_result"
    }
   ],
   "source": [
    "# Use our custom polynomial regression model\n",
    "custom_poly_model = PolynomialRegressionFromScratch(degree=optimal_degree)\n",
    "custom_poly_model.fit(X_train, y_train)"
   ]
  },
  {
   "cell_type": "code",
   "execution_count": 65,
   "metadata": {
    "id": "2fMwPEobkUza"
   },
   "outputs": [
    {
     "name": "stdout",
     "output_type": "stream",
     "text": [
      "\n",
      "Custom Polynomial Regression Model (From Scratch):\n",
      "Training MSE: 0.3604\n",
      "Test MSE: 0.4129\n",
      "Training R²: 0.9861\n",
      "Test R²: 0.9869\n"
     ]
    }
   ],
   "source": [
    "# Evaluate the custom model\n",
    "custom_train_pred = custom_poly_model.predict(X_train)\n",
    "custom_test_pred = custom_poly_model.predict(X_test)\n",
    "\n",
    "custom_train_mse = mean_squared_error(y_train, custom_train_pred)\n",
    "custom_test_mse = mean_squared_error(y_test, custom_test_pred)\n",
    "custom_train_r2 = r2_score(y_train, custom_train_pred)\n",
    "custom_test_r2 = r2_score(y_test, custom_test_pred)\n",
    "\n",
    "print(\"\\nCustom Polynomial Regression Model (From Scratch):\")\n",
    "print(f\"Training MSE: {custom_train_mse:.4f}\")\n",
    "print(f\"Test MSE: {custom_test_mse:.4f}\")\n",
    "print(f\"Training R²: {custom_train_r2:.4f}\")\n",
    "print(f\"Test R²: {custom_test_r2:.4f}\")"
   ]
  },
  {
   "cell_type": "code",
   "execution_count": 66,
   "metadata": {
    "id": "YZyxb5ppklza"
   },
   "outputs": [
    {
     "name": "stdout",
     "output_type": "stream",
     "text": [
      "\n",
      "Scikit-learn Polynomial Regression Model:\n",
      "Training MSE: 0.3604\n",
      "Test MSE: 0.4129\n",
      "Training R²: 0.9861\n",
      "Test R²: 0.9869\n"
     ]
    }
   ],
   "source": [
    "# Compare with sklearn's implementation\n",
    "sklearn_poly_model = make_pipeline(\n",
    "    PolynomialFeatures(degree=optimal_degree, include_bias=False),\n",
    "    LinearRegression()\n",
    ")\n",
    "sklearn_poly_model.fit(X_train, y_train)\n",
    "\n",
    "sklearn_train_pred = sklearn_poly_model.predict(X_train)\n",
    "sklearn_test_pred = sklearn_poly_model.predict(X_test)\n",
    "\n",
    "sklearn_train_mse = mean_squared_error(y_train, sklearn_train_pred)\n",
    "sklearn_test_mse = mean_squared_error(y_test, sklearn_test_pred)\n",
    "sklearn_train_r2 = r2_score(y_train, sklearn_train_pred)\n",
    "sklearn_test_r2 = r2_score(y_test, sklearn_test_pred)\n",
    "\n",
    "print(\"\\nScikit-learn Polynomial Regression Model:\")\n",
    "print(f\"Training MSE: {sklearn_train_mse:.4f}\")\n",
    "print(f\"Test MSE: {sklearn_test_mse:.4f}\")\n",
    "print(f\"Training R²: {sklearn_train_r2:.4f}\")\n",
    "print(f\"Test R²: {sklearn_test_r2:.4f}\")"
   ]
  },
  {
   "cell_type": "code",
   "execution_count": 67,
   "metadata": {
    "id": "NbLy0qFzkoQL"
   },
   "outputs": [],
   "source": [
    "# Part 3: Compare with Multiple Linear Regression"
   ]
  },
  {
   "cell_type": "code",
   "execution_count": 68,
   "metadata": {
    "id": "k18XcF2Hkxx7"
   },
   "outputs": [
    {
     "data": {
      "text/html": [
       "<style>#sk-container-id-2 {\n",
       "  /* Definition of color scheme common for light and dark mode */\n",
       "  --sklearn-color-text: #000;\n",
       "  --sklearn-color-text-muted: #666;\n",
       "  --sklearn-color-line: gray;\n",
       "  /* Definition of color scheme for unfitted estimators */\n",
       "  --sklearn-color-unfitted-level-0: #fff5e6;\n",
       "  --sklearn-color-unfitted-level-1: #f6e4d2;\n",
       "  --sklearn-color-unfitted-level-2: #ffe0b3;\n",
       "  --sklearn-color-unfitted-level-3: chocolate;\n",
       "  /* Definition of color scheme for fitted estimators */\n",
       "  --sklearn-color-fitted-level-0: #f0f8ff;\n",
       "  --sklearn-color-fitted-level-1: #d4ebff;\n",
       "  --sklearn-color-fitted-level-2: #b3dbfd;\n",
       "  --sklearn-color-fitted-level-3: cornflowerblue;\n",
       "\n",
       "  /* Specific color for light theme */\n",
       "  --sklearn-color-text-on-default-background: var(--sg-text-color, var(--theme-code-foreground, var(--jp-content-font-color1, black)));\n",
       "  --sklearn-color-background: var(--sg-background-color, var(--theme-background, var(--jp-layout-color0, white)));\n",
       "  --sklearn-color-border-box: var(--sg-text-color, var(--theme-code-foreground, var(--jp-content-font-color1, black)));\n",
       "  --sklearn-color-icon: #696969;\n",
       "\n",
       "  @media (prefers-color-scheme: dark) {\n",
       "    /* Redefinition of color scheme for dark theme */\n",
       "    --sklearn-color-text-on-default-background: var(--sg-text-color, var(--theme-code-foreground, var(--jp-content-font-color1, white)));\n",
       "    --sklearn-color-background: var(--sg-background-color, var(--theme-background, var(--jp-layout-color0, #111)));\n",
       "    --sklearn-color-border-box: var(--sg-text-color, var(--theme-code-foreground, var(--jp-content-font-color1, white)));\n",
       "    --sklearn-color-icon: #878787;\n",
       "  }\n",
       "}\n",
       "\n",
       "#sk-container-id-2 {\n",
       "  color: var(--sklearn-color-text);\n",
       "}\n",
       "\n",
       "#sk-container-id-2 pre {\n",
       "  padding: 0;\n",
       "}\n",
       "\n",
       "#sk-container-id-2 input.sk-hidden--visually {\n",
       "  border: 0;\n",
       "  clip: rect(1px 1px 1px 1px);\n",
       "  clip: rect(1px, 1px, 1px, 1px);\n",
       "  height: 1px;\n",
       "  margin: -1px;\n",
       "  overflow: hidden;\n",
       "  padding: 0;\n",
       "  position: absolute;\n",
       "  width: 1px;\n",
       "}\n",
       "\n",
       "#sk-container-id-2 div.sk-dashed-wrapped {\n",
       "  border: 1px dashed var(--sklearn-color-line);\n",
       "  margin: 0 0.4em 0.5em 0.4em;\n",
       "  box-sizing: border-box;\n",
       "  padding-bottom: 0.4em;\n",
       "  background-color: var(--sklearn-color-background);\n",
       "}\n",
       "\n",
       "#sk-container-id-2 div.sk-container {\n",
       "  /* jupyter's `normalize.less` sets `[hidden] { display: none; }`\n",
       "     but bootstrap.min.css set `[hidden] { display: none !important; }`\n",
       "     so we also need the `!important` here to be able to override the\n",
       "     default hidden behavior on the sphinx rendered scikit-learn.org.\n",
       "     See: https://github.com/scikit-learn/scikit-learn/issues/21755 */\n",
       "  display: inline-block !important;\n",
       "  position: relative;\n",
       "}\n",
       "\n",
       "#sk-container-id-2 div.sk-text-repr-fallback {\n",
       "  display: none;\n",
       "}\n",
       "\n",
       "div.sk-parallel-item,\n",
       "div.sk-serial,\n",
       "div.sk-item {\n",
       "  /* draw centered vertical line to link estimators */\n",
       "  background-image: linear-gradient(var(--sklearn-color-text-on-default-background), var(--sklearn-color-text-on-default-background));\n",
       "  background-size: 2px 100%;\n",
       "  background-repeat: no-repeat;\n",
       "  background-position: center center;\n",
       "}\n",
       "\n",
       "/* Parallel-specific style estimator block */\n",
       "\n",
       "#sk-container-id-2 div.sk-parallel-item::after {\n",
       "  content: \"\";\n",
       "  width: 100%;\n",
       "  border-bottom: 2px solid var(--sklearn-color-text-on-default-background);\n",
       "  flex-grow: 1;\n",
       "}\n",
       "\n",
       "#sk-container-id-2 div.sk-parallel {\n",
       "  display: flex;\n",
       "  align-items: stretch;\n",
       "  justify-content: center;\n",
       "  background-color: var(--sklearn-color-background);\n",
       "  position: relative;\n",
       "}\n",
       "\n",
       "#sk-container-id-2 div.sk-parallel-item {\n",
       "  display: flex;\n",
       "  flex-direction: column;\n",
       "}\n",
       "\n",
       "#sk-container-id-2 div.sk-parallel-item:first-child::after {\n",
       "  align-self: flex-end;\n",
       "  width: 50%;\n",
       "}\n",
       "\n",
       "#sk-container-id-2 div.sk-parallel-item:last-child::after {\n",
       "  align-self: flex-start;\n",
       "  width: 50%;\n",
       "}\n",
       "\n",
       "#sk-container-id-2 div.sk-parallel-item:only-child::after {\n",
       "  width: 0;\n",
       "}\n",
       "\n",
       "/* Serial-specific style estimator block */\n",
       "\n",
       "#sk-container-id-2 div.sk-serial {\n",
       "  display: flex;\n",
       "  flex-direction: column;\n",
       "  align-items: center;\n",
       "  background-color: var(--sklearn-color-background);\n",
       "  padding-right: 1em;\n",
       "  padding-left: 1em;\n",
       "}\n",
       "\n",
       "\n",
       "/* Toggleable style: style used for estimator/Pipeline/ColumnTransformer box that is\n",
       "clickable and can be expanded/collapsed.\n",
       "- Pipeline and ColumnTransformer use this feature and define the default style\n",
       "- Estimators will overwrite some part of the style using the `sk-estimator` class\n",
       "*/\n",
       "\n",
       "/* Pipeline and ColumnTransformer style (default) */\n",
       "\n",
       "#sk-container-id-2 div.sk-toggleable {\n",
       "  /* Default theme specific background. It is overwritten whether we have a\n",
       "  specific estimator or a Pipeline/ColumnTransformer */\n",
       "  background-color: var(--sklearn-color-background);\n",
       "}\n",
       "\n",
       "/* Toggleable label */\n",
       "#sk-container-id-2 label.sk-toggleable__label {\n",
       "  cursor: pointer;\n",
       "  display: flex;\n",
       "  width: 100%;\n",
       "  margin-bottom: 0;\n",
       "  padding: 0.5em;\n",
       "  box-sizing: border-box;\n",
       "  text-align: center;\n",
       "  align-items: start;\n",
       "  justify-content: space-between;\n",
       "  gap: 0.5em;\n",
       "}\n",
       "\n",
       "#sk-container-id-2 label.sk-toggleable__label .caption {\n",
       "  font-size: 0.6rem;\n",
       "  font-weight: lighter;\n",
       "  color: var(--sklearn-color-text-muted);\n",
       "}\n",
       "\n",
       "#sk-container-id-2 label.sk-toggleable__label-arrow:before {\n",
       "  /* Arrow on the left of the label */\n",
       "  content: \"▸\";\n",
       "  float: left;\n",
       "  margin-right: 0.25em;\n",
       "  color: var(--sklearn-color-icon);\n",
       "}\n",
       "\n",
       "#sk-container-id-2 label.sk-toggleable__label-arrow:hover:before {\n",
       "  color: var(--sklearn-color-text);\n",
       "}\n",
       "\n",
       "/* Toggleable content - dropdown */\n",
       "\n",
       "#sk-container-id-2 div.sk-toggleable__content {\n",
       "  max-height: 0;\n",
       "  max-width: 0;\n",
       "  overflow: hidden;\n",
       "  text-align: left;\n",
       "  /* unfitted */\n",
       "  background-color: var(--sklearn-color-unfitted-level-0);\n",
       "}\n",
       "\n",
       "#sk-container-id-2 div.sk-toggleable__content.fitted {\n",
       "  /* fitted */\n",
       "  background-color: var(--sklearn-color-fitted-level-0);\n",
       "}\n",
       "\n",
       "#sk-container-id-2 div.sk-toggleable__content pre {\n",
       "  margin: 0.2em;\n",
       "  border-radius: 0.25em;\n",
       "  color: var(--sklearn-color-text);\n",
       "  /* unfitted */\n",
       "  background-color: var(--sklearn-color-unfitted-level-0);\n",
       "}\n",
       "\n",
       "#sk-container-id-2 div.sk-toggleable__content.fitted pre {\n",
       "  /* unfitted */\n",
       "  background-color: var(--sklearn-color-fitted-level-0);\n",
       "}\n",
       "\n",
       "#sk-container-id-2 input.sk-toggleable__control:checked~div.sk-toggleable__content {\n",
       "  /* Expand drop-down */\n",
       "  max-height: 200px;\n",
       "  max-width: 100%;\n",
       "  overflow: auto;\n",
       "}\n",
       "\n",
       "#sk-container-id-2 input.sk-toggleable__control:checked~label.sk-toggleable__label-arrow:before {\n",
       "  content: \"▾\";\n",
       "}\n",
       "\n",
       "/* Pipeline/ColumnTransformer-specific style */\n",
       "\n",
       "#sk-container-id-2 div.sk-label input.sk-toggleable__control:checked~label.sk-toggleable__label {\n",
       "  color: var(--sklearn-color-text);\n",
       "  background-color: var(--sklearn-color-unfitted-level-2);\n",
       "}\n",
       "\n",
       "#sk-container-id-2 div.sk-label.fitted input.sk-toggleable__control:checked~label.sk-toggleable__label {\n",
       "  background-color: var(--sklearn-color-fitted-level-2);\n",
       "}\n",
       "\n",
       "/* Estimator-specific style */\n",
       "\n",
       "/* Colorize estimator box */\n",
       "#sk-container-id-2 div.sk-estimator input.sk-toggleable__control:checked~label.sk-toggleable__label {\n",
       "  /* unfitted */\n",
       "  background-color: var(--sklearn-color-unfitted-level-2);\n",
       "}\n",
       "\n",
       "#sk-container-id-2 div.sk-estimator.fitted input.sk-toggleable__control:checked~label.sk-toggleable__label {\n",
       "  /* fitted */\n",
       "  background-color: var(--sklearn-color-fitted-level-2);\n",
       "}\n",
       "\n",
       "#sk-container-id-2 div.sk-label label.sk-toggleable__label,\n",
       "#sk-container-id-2 div.sk-label label {\n",
       "  /* The background is the default theme color */\n",
       "  color: var(--sklearn-color-text-on-default-background);\n",
       "}\n",
       "\n",
       "/* On hover, darken the color of the background */\n",
       "#sk-container-id-2 div.sk-label:hover label.sk-toggleable__label {\n",
       "  color: var(--sklearn-color-text);\n",
       "  background-color: var(--sklearn-color-unfitted-level-2);\n",
       "}\n",
       "\n",
       "/* Label box, darken color on hover, fitted */\n",
       "#sk-container-id-2 div.sk-label.fitted:hover label.sk-toggleable__label.fitted {\n",
       "  color: var(--sklearn-color-text);\n",
       "  background-color: var(--sklearn-color-fitted-level-2);\n",
       "}\n",
       "\n",
       "/* Estimator label */\n",
       "\n",
       "#sk-container-id-2 div.sk-label label {\n",
       "  font-family: monospace;\n",
       "  font-weight: bold;\n",
       "  display: inline-block;\n",
       "  line-height: 1.2em;\n",
       "}\n",
       "\n",
       "#sk-container-id-2 div.sk-label-container {\n",
       "  text-align: center;\n",
       "}\n",
       "\n",
       "/* Estimator-specific */\n",
       "#sk-container-id-2 div.sk-estimator {\n",
       "  font-family: monospace;\n",
       "  border: 1px dotted var(--sklearn-color-border-box);\n",
       "  border-radius: 0.25em;\n",
       "  box-sizing: border-box;\n",
       "  margin-bottom: 0.5em;\n",
       "  /* unfitted */\n",
       "  background-color: var(--sklearn-color-unfitted-level-0);\n",
       "}\n",
       "\n",
       "#sk-container-id-2 div.sk-estimator.fitted {\n",
       "  /* fitted */\n",
       "  background-color: var(--sklearn-color-fitted-level-0);\n",
       "}\n",
       "\n",
       "/* on hover */\n",
       "#sk-container-id-2 div.sk-estimator:hover {\n",
       "  /* unfitted */\n",
       "  background-color: var(--sklearn-color-unfitted-level-2);\n",
       "}\n",
       "\n",
       "#sk-container-id-2 div.sk-estimator.fitted:hover {\n",
       "  /* fitted */\n",
       "  background-color: var(--sklearn-color-fitted-level-2);\n",
       "}\n",
       "\n",
       "/* Specification for estimator info (e.g. \"i\" and \"?\") */\n",
       "\n",
       "/* Common style for \"i\" and \"?\" */\n",
       "\n",
       ".sk-estimator-doc-link,\n",
       "a:link.sk-estimator-doc-link,\n",
       "a:visited.sk-estimator-doc-link {\n",
       "  float: right;\n",
       "  font-size: smaller;\n",
       "  line-height: 1em;\n",
       "  font-family: monospace;\n",
       "  background-color: var(--sklearn-color-background);\n",
       "  border-radius: 1em;\n",
       "  height: 1em;\n",
       "  width: 1em;\n",
       "  text-decoration: none !important;\n",
       "  margin-left: 0.5em;\n",
       "  text-align: center;\n",
       "  /* unfitted */\n",
       "  border: var(--sklearn-color-unfitted-level-1) 1pt solid;\n",
       "  color: var(--sklearn-color-unfitted-level-1);\n",
       "}\n",
       "\n",
       ".sk-estimator-doc-link.fitted,\n",
       "a:link.sk-estimator-doc-link.fitted,\n",
       "a:visited.sk-estimator-doc-link.fitted {\n",
       "  /* fitted */\n",
       "  border: var(--sklearn-color-fitted-level-1) 1pt solid;\n",
       "  color: var(--sklearn-color-fitted-level-1);\n",
       "}\n",
       "\n",
       "/* On hover */\n",
       "div.sk-estimator:hover .sk-estimator-doc-link:hover,\n",
       ".sk-estimator-doc-link:hover,\n",
       "div.sk-label-container:hover .sk-estimator-doc-link:hover,\n",
       ".sk-estimator-doc-link:hover {\n",
       "  /* unfitted */\n",
       "  background-color: var(--sklearn-color-unfitted-level-3);\n",
       "  color: var(--sklearn-color-background);\n",
       "  text-decoration: none;\n",
       "}\n",
       "\n",
       "div.sk-estimator.fitted:hover .sk-estimator-doc-link.fitted:hover,\n",
       ".sk-estimator-doc-link.fitted:hover,\n",
       "div.sk-label-container:hover .sk-estimator-doc-link.fitted:hover,\n",
       ".sk-estimator-doc-link.fitted:hover {\n",
       "  /* fitted */\n",
       "  background-color: var(--sklearn-color-fitted-level-3);\n",
       "  color: var(--sklearn-color-background);\n",
       "  text-decoration: none;\n",
       "}\n",
       "\n",
       "/* Span, style for the box shown on hovering the info icon */\n",
       ".sk-estimator-doc-link span {\n",
       "  display: none;\n",
       "  z-index: 9999;\n",
       "  position: relative;\n",
       "  font-weight: normal;\n",
       "  right: .2ex;\n",
       "  padding: .5ex;\n",
       "  margin: .5ex;\n",
       "  width: min-content;\n",
       "  min-width: 20ex;\n",
       "  max-width: 50ex;\n",
       "  color: var(--sklearn-color-text);\n",
       "  box-shadow: 2pt 2pt 4pt #999;\n",
       "  /* unfitted */\n",
       "  background: var(--sklearn-color-unfitted-level-0);\n",
       "  border: .5pt solid var(--sklearn-color-unfitted-level-3);\n",
       "}\n",
       "\n",
       ".sk-estimator-doc-link.fitted span {\n",
       "  /* fitted */\n",
       "  background: var(--sklearn-color-fitted-level-0);\n",
       "  border: var(--sklearn-color-fitted-level-3);\n",
       "}\n",
       "\n",
       ".sk-estimator-doc-link:hover span {\n",
       "  display: block;\n",
       "}\n",
       "\n",
       "/* \"?\"-specific style due to the `<a>` HTML tag */\n",
       "\n",
       "#sk-container-id-2 a.estimator_doc_link {\n",
       "  float: right;\n",
       "  font-size: 1rem;\n",
       "  line-height: 1em;\n",
       "  font-family: monospace;\n",
       "  background-color: var(--sklearn-color-background);\n",
       "  border-radius: 1rem;\n",
       "  height: 1rem;\n",
       "  width: 1rem;\n",
       "  text-decoration: none;\n",
       "  /* unfitted */\n",
       "  color: var(--sklearn-color-unfitted-level-1);\n",
       "  border: var(--sklearn-color-unfitted-level-1) 1pt solid;\n",
       "}\n",
       "\n",
       "#sk-container-id-2 a.estimator_doc_link.fitted {\n",
       "  /* fitted */\n",
       "  border: var(--sklearn-color-fitted-level-1) 1pt solid;\n",
       "  color: var(--sklearn-color-fitted-level-1);\n",
       "}\n",
       "\n",
       "/* On hover */\n",
       "#sk-container-id-2 a.estimator_doc_link:hover {\n",
       "  /* unfitted */\n",
       "  background-color: var(--sklearn-color-unfitted-level-3);\n",
       "  color: var(--sklearn-color-background);\n",
       "  text-decoration: none;\n",
       "}\n",
       "\n",
       "#sk-container-id-2 a.estimator_doc_link.fitted:hover {\n",
       "  /* fitted */\n",
       "  background-color: var(--sklearn-color-fitted-level-3);\n",
       "}\n",
       "</style><div id=\"sk-container-id-2\" class=\"sk-top-container\"><div class=\"sk-text-repr-fallback\"><pre>LinearRegression()</pre><b>In a Jupyter environment, please rerun this cell to show the HTML representation or trust the notebook. <br />On GitHub, the HTML representation is unable to render, please try loading this page with nbviewer.org.</b></div><div class=\"sk-container\" hidden><div class=\"sk-item\"><div class=\"sk-estimator fitted sk-toggleable\"><input class=\"sk-toggleable__control sk-hidden--visually\" id=\"sk-estimator-id-2\" type=\"checkbox\" checked><label for=\"sk-estimator-id-2\" class=\"sk-toggleable__label fitted sk-toggleable__label-arrow\"><div><div>LinearRegression</div></div><div><a class=\"sk-estimator-doc-link fitted\" rel=\"noreferrer\" target=\"_blank\" href=\"https://scikit-learn.org/1.6/modules/generated/sklearn.linear_model.LinearRegression.html\">?<span>Documentation for LinearRegression</span></a><span class=\"sk-estimator-doc-link fitted\">i<span>Fitted</span></span></div></label><div class=\"sk-toggleable__content fitted\"><pre>LinearRegression()</pre></div> </div></div></div></div>"
      ],
      "text/plain": [
       "LinearRegression()"
      ]
     },
     "execution_count": 68,
     "metadata": {},
     "output_type": "execute_result"
    }
   ],
   "source": [
    "# Train multiple linear regression model\n",
    "linear_model = LinearRegression()\n",
    "linear_model.fit(X_train, y_train)"
   ]
  },
  {
   "cell_type": "code",
   "execution_count": 69,
   "metadata": {
    "id": "jUefPGHCkyva"
   },
   "outputs": [
    {
     "name": "stdout",
     "output_type": "stream",
     "text": [
      "\n",
      "Multiple Linear Regression Model:\n",
      "Training MSE: 2.7051\n",
      "Test MSE: 3.1741\n",
      "Training R²: 0.8957\n",
      "Test R²: 0.8994\n"
     ]
    }
   ],
   "source": [
    "# Evaluate linear model\n",
    "linear_train_pred = linear_model.predict(X_train)\n",
    "linear_test_pred = linear_model.predict(X_test)\n",
    "\n",
    "linear_train_mse = mean_squared_error(y_train, linear_train_pred)\n",
    "linear_test_mse = mean_squared_error(y_test, linear_test_pred)\n",
    "linear_train_r2 = r2_score(y_train, linear_train_pred)\n",
    "linear_test_r2 = r2_score(y_test, linear_test_pred)\n",
    "\n",
    "print(\"\\nMultiple Linear Regression Model:\")\n",
    "print(f\"Training MSE: {linear_train_mse:.4f}\")\n",
    "print(f\"Test MSE: {linear_test_mse:.4f}\")\n",
    "print(f\"Training R²: {linear_train_r2:.4f}\")\n",
    "print(f\"Test R²: {linear_test_r2:.4f}\")"
   ]
  },
  {
   "cell_type": "code",
   "execution_count": 70,
   "metadata": {
    "id": "JrybYn22lRI7"
   },
   "outputs": [
    {
     "name": "stdout",
     "output_type": "stream",
     "text": [
      "\n",
      "Model Comparison:\n",
      "                              Model  Training MSE  Test MSE  Training R²  \\\n",
      "0                 Linear Regression      2.705129  3.174097     0.895701   \n",
      "1  Polynomial Regression (degree=2)      0.360397  0.412910     0.986105   \n",
      "\n",
      "    Test R²  \n",
      "0  0.899438  \n",
      "1  0.986918  \n"
     ]
    }
   ],
   "source": [
    "# Compare models using a table\n",
    "comparison_df = pd.DataFrame({\n",
    "    'Model': ['Linear Regression', f'Polynomial Regression (degree={optimal_degree})'],\n",
    "    'Training MSE': [linear_train_mse, custom_train_mse],\n",
    "    'Test MSE': [linear_test_mse, custom_test_mse],\n",
    "    'Training R²': [linear_train_r2, custom_train_r2],\n",
    "    'Test R²': [linear_test_r2, custom_test_r2]\n",
    "})\n",
    "print(\"\\nModel Comparison:\")\n",
    "print(comparison_df)"
   ]
  },
  {
   "cell_type": "code",
   "execution_count": 71,
   "metadata": {
    "id": "v9G87l9Al0fH"
   },
   "outputs": [],
   "source": [
    "# Visualize the predictions (actual vs predicted)\n",
    "plt.figure(figsize=(12, 6))\n",
    "\n",
    "plt.subplot(1, 2, 1)\n",
    "plt.scatter(y_test, linear_test_pred, alpha=0.7)\n",
    "plt.plot([y_test.min(), y_test.max()], [y_test.min(), y_test.max()], 'r--')\n",
    "plt.xlabel('Actual')\n",
    "plt.ylabel('Predicted')\n",
    "plt.title('Linear Regression: Actual vs Predicted')\n",
    "\n",
    "plt.subplot(1, 2, 2)\n",
    "plt.scatter(y_test, custom_test_pred, alpha=0.7)\n",
    "plt.plot([y_test.min(), y_test.max()], [y_test.min(), y_test.max()], 'r--')\n",
    "plt.xlabel('Actual')\n",
    "plt.ylabel('Predicted')\n",
    "plt.title(f'Polynomial Regression (degree={optimal_degree}): Actual vs Predicted')\n",
    "\n",
    "plt.tight_layout()\n",
    "plt.savefig('prediction_comparison.png')\n",
    "plt.close()"
   ]
  },
  {
   "cell_type": "code",
   "execution_count": 72,
   "metadata": {
    "id": "AQ9g5Vpnl4rk"
   },
   "outputs": [],
   "source": [
    "# Analyze residuals\n",
    "def plot_residuals(y_true, y_pred, title):\n",
    "    residuals = y_true - y_pred\n",
    "    plt.figure(figsize=(12, 5))\n",
    "\n",
    "    plt.subplot(1, 2, 1)\n",
    "    plt.scatter(y_pred, residuals)\n",
    "    plt.axhline(y=0, color='r', linestyle='-')\n",
    "    plt.xlabel('Predicted')\n",
    "    plt.ylabel('Residuals')\n",
    "    plt.title(f'{title} - Residuals vs Predicted')\n",
    "\n",
    "    plt.subplot(1, 2, 2)\n",
    "    plt.hist(residuals, bins=20)\n",
    "    plt.xlabel('Residuals')\n",
    "    plt.ylabel('Frequency')\n",
    "    plt.title(f'{title} - Residual Distribution')\n",
    "\n",
    "    plt.tight_layout()\n",
    "\n",
    "plot_residuals(y_test, linear_test_pred, 'Linear Regression')\n",
    "plt.savefig('linear_residuals.png')\n",
    "plt.close()\n",
    "\n",
    "plot_residuals(y_test, custom_test_pred, f'Polynomial Regression (degree={optimal_degree})')\n",
    "plt.savefig('polynomial_residuals.png')\n",
    "plt.close()"
   ]
  },
  {
   "cell_type": "code",
   "execution_count": 73,
   "metadata": {
    "id": "yKsYqdY8l5vF"
   },
   "outputs": [
    {
     "name": "stdout",
     "output_type": "stream",
     "text": [
      "\n",
      "Final Recommendation:\n",
      "Based on the analysis, the Polynomial Regression model with degree 2 is recommended.\n",
      "It provides better predictive performance (Test R² = 0.9869) compared to the Linear model (Test R² = 0.8994).\n",
      "The difference between training and test performance is acceptable, indicating the model is not overfitting significantly.\n"
     ]
    }
   ],
   "source": [
    "# Final recommendation based on analysis\n",
    "print(\"\\nFinal Recommendation:\")\n",
    "if custom_test_r2 > linear_test_r2 and (custom_train_r2 - custom_test_r2) < 0.1:\n",
    "    print(f\"Based on the analysis, the Polynomial Regression model with degree {optimal_degree} is recommended.\")\n",
    "    print(f\"It provides better predictive performance (Test R² = {custom_test_r2:.4f}) compared to the Linear model (Test R² = {linear_test_r2:.4f}).\")\n",
    "    print(\"The difference between training and test performance is acceptable, indicating the model is not overfitting significantly.\")\n",
    "else:\n",
    "    print(\"Based on the analysis, the Linear Regression model is recommended.\")\n",
    "    print(f\"While the Polynomial model may have slightly better training performance, the Linear model (Test R² = {linear_test_r2:.4f}) is simpler and provides comparable test performance.\")\n",
    "    print(\"The principle of parsimony suggests using the simpler model when performance is similar.\")"
   ]
  },
  {
   "cell_type": "code",
   "execution_count": 74,
   "metadata": {},
   "outputs": [],
   "source": [
    "# Enhanced EDA: Individual feature relationships with Sales\n",
    "plt.figure(figsize=(18, 6))\n",
    "for i, feature in enumerate(['TV', 'Radio', 'Newspaper'], 1):\n",
    "    plt.subplot(1, 3, i)\n",
    "    sns.regplot(x=df[feature], y=df['Sales'], \n",
    "                line_kws={'color': 'red'}, \n",
    "                scatter_kws={'alpha': 0.4})\n",
    "    plt.title(f'{feature} vs Sales')\n",
    "plt.tight_layout()\n",
    "plt.savefig('feature_vs_sales.png')\n",
    "plt.close()"
   ]
  },
  {
   "cell_type": "code",
   "execution_count": 75,
   "metadata": {},
   "outputs": [],
   "source": [
    "# Polynomial Degree Selection Visual Enhancement\n",
    "plt.figure(figsize=(14, 5))\n",
    "\n",
    "# R² Scores\n",
    "plt.subplot(1, 2, 1)\n",
    "plt.plot(range(1, 6), train_scores, 'o-', label='Training')\n",
    "plt.plot(range(1, 6), test_scores, 'o-', label='Testing')\n",
    "plt.plot(range(1, 6), cv_scores, 'o-', label='CV')\n",
    "plt.scatter(optimal_degree, test_scores[optimal_degree-1], \n",
    "           s=200, facecolors='none', edgecolors='r', \n",
    "           label=f'Optimal (deg={optimal_degree})')\n",
    "plt.xlabel('Polynomial Degree')\n",
    "plt.ylabel('R² Score')\n",
    "plt.title('Model Performance Comparison')\n",
    "plt.legend()\n",
    "plt.grid(True)\n",
    "\n",
    "# AIC/BIC\n",
    "plt.subplot(1, 2, 2)\n",
    "plt.plot(range(1, 6), aic_values, 'o-', label='AIC')\n",
    "plt.plot(range(1, 6), bic_values, 'o-', label='BIC')\n",
    "plt.scatter(optimal_degree, aic_values[optimal_degree-1], \n",
    "           s=200, facecolors='none', edgecolors='r')\n",
    "plt.scatter(optimal_degree, bic_values[optimal_degree-1], \n",
    "           s=200, facecolors='none', edgecolors='r')\n",
    "plt.xlabel('Polynomial Degree')\n",
    "plt.ylabel('Information Criterion')\n",
    "plt.title('Information Criteria Comparison')\n",
    "plt.legend()\n",
    "plt.grid(True)\n",
    "\n",
    "plt.tight_layout()\n",
    "plt.savefig('enhanced_degree_selection.png')\n",
    "plt.close()"
   ]
  },
  {
   "cell_type": "code",
   "execution_count": 76,
   "metadata": {},
   "outputs": [
    {
     "data": {
      "image/png": "[encoded data removed]",
      "text/plain": [
       "<Figure size 1800x600 with 1 Axes>"
      ]
     },
     "metadata": {},
     "output_type": "display_data"
    },
    {
     "data": {
      "image/png": "[encoded data removed]",
      "text/plain": [
       "<Figure size 1000x600 with 2 Axes>"
      ]
     },
     "metadata": {},
     "output_type": "display_data"
    },
    {
     "data": {
      "image/png": "[encoded data removed]",
      "text/plain": [
       "<Figure size 1000x600 with 2 Axes>"
      ]
     },
     "metadata": {},
     "output_type": "display_data"
    }
   ],
   "source": [
    "# Combined Learning Curves Visualization\n",
    "plt.figure(figsize=(18, 6))\n",
    "for idx, degree in enumerate([1, 2, 3], 1):\n",
    "    polynomial_features = PolynomialFeatures(degree=degree)\n",
    "    X_poly = polynomial_features.fit_transform(X)\n",
    "    \n",
    "    plt.subplot(1, 3, idx)\n",
    "    plot_learning_curve(LinearRegression(), \n",
    "                       f'Degree {degree}', \n",
    "                       X_poly, y, cv=5)\n",
    "plt.tight_layout()\n",
    "plt.savefig('combined_learning_curves.png')\n",
    "plt.close()"
   ]
  },
  {
   "cell_type": "code",
   "execution_count": 77,
   "metadata": {},
   "outputs": [],
   "source": [
    "# Residual Diagnostics\n",
    "def plot_qq_residuals(y_true, y_pred, title):\n",
    "    residuals = y_true - y_pred\n",
    "    plt.figure(figsize=(12, 5))\n",
    "    \n",
    "    plt.subplot(1, 2, 1)\n",
    "    stats.probplot(residuals, plot=plt)\n",
    "    plt.title(f'{title} - Q-Q Plot')\n",
    "    \n",
    "    plt.subplot(1, 2, 2)\n",
    "    sns.histplot(residuals, kde=True)\n",
    "    plt.title(f'{title} - Residual Distribution')\n",
    "    plt.tight_layout()\n",
    "    plt.savefig(f'qq_residuals_{title.lower().replace(\" \", \"_\")}.png')\n",
    "    plt.close()\n",
    "\n",
    "plot_qq_residuals(y_test, linear_test_pred, 'Linear Regression')\n",
    "plot_qq_residuals(y_test, custom_test_pred, f'Polynomial deg={optimal_degree}')"
   ]
  },
  {
   "cell_type": "code",
   "execution_count": 78,
   "metadata": {},
   "outputs": [
    {
     "data": {
      "text/plain": [
       "<Figure size 1000x600 with 0 Axes>"
      ]
     },
     "metadata": {},
     "output_type": "display_data"
    }
   ],
   "source": [
    "# Generate learning curves for Degree 1 (Linear Regression)\n",
    "plt.figure(figsize=(10, 6))\n",
    "plot_learning_curve(LinearRegression(), \n",
    "                    \"Learning Curves - Degree 1 (Linear Regression)\", \n",
    "                    X_train, \n",
    "                    y_train, \n",
    "                    cv=5,\n",
    "                    train_sizes=np.linspace(0.1, 1.0, 10))\n",
    "\n",
    "plt.grid(True)\n",
    "plt.savefig('learning_curve_degree_1.png')  # Save as image.png to replace empty file\n",
    "plt.close()"
   ]
  },
  {
   "cell_type": "code",
   "execution_count": 79,
   "metadata": {},
   "outputs": [],
   "source": [
    "# Model Comparison Visualization\n",
    "metrics = ['Training R²', 'Test R²', 'Training MSE', 'Test MSE']\n",
    "linear_metrics = [linear_train_r2, linear_test_r2, \n",
    "                 linear_train_mse, linear_test_mse]\n",
    "poly_metrics = [custom_train_r2, custom_test_r2, \n",
    "               custom_train_mse, custom_test_mse]\n",
    "\n",
    "x = np.arange(len(metrics))\n",
    "plt.figure(figsize=(12, 6))\n",
    "bar_width = 0.35\n",
    "\n",
    "plt.bar(x - bar_width/2, linear_metrics, bar_width, \n",
    "       label='Linear Regression')\n",
    "plt.bar(x + bar_width/2, poly_metrics, bar_width, \n",
    "       label=f'Polynomial (deg={optimal_degree})')\n",
    "\n",
    "plt.xticks(x, metrics)\n",
    "plt.ylabel('Score')\n",
    "plt.title('Model Performance Comparison')\n",
    "plt.legend()\n",
    "plt.grid(True, axis='y')\n",
    "plt.savefig('model_comparison_bars.png')\n",
    "plt.close()"
   ]
  }
 ],
 "metadata": {
  "colab": {
   "provenance": []
  },
  "kernelspec": {
   "display_name": "Python 3 (ipykernel)",
   "language": "python",
   "name": "python3"
  },
  "language_info": {
   "codemirror_mode": {
    "name": "ipython",
    "version": 3
   },
   "file_extension": ".py",
   "mimetype": "text/x-python",
   "name": "python",
   "nbconvert_exporter": "python",
   "pygments_lexer": "ipython3",
   "version": "3.12.9"
  }
 },
 "nbformat": 4,
 "nbformat_minor": 4
}
